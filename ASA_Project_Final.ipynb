{
  "nbformat": 4,
  "nbformat_minor": 0,
  "metadata": {
    "colab": {
      "provenance": []
    },
    "kernelspec": {
      "name": "python3",
      "display_name": "Python 3"
    },
    "language_info": {
      "name": "python"
    }
  },
  "cells": [
    {
      "cell_type": "markdown",
      "source": [
        "### Libraries"
      ],
      "metadata": {
        "id": "Lmjvo7oPMLXv"
      }
    },
    {
      "cell_type": "code",
      "source": [
        "import numpy as np\n",
        "from sympy import symbols\n",
        "import math\n",
        "import csv\n",
        "from tabulate import tabulate\n",
        "import sympy as sp"
      ],
      "metadata": {
        "id": "3vZIGre8Lt6c"
      },
      "execution_count": null,
      "outputs": []
    },
    {
      "cell_type": "markdown",
      "source": [
        "### Accessing Sheet Data"
      ],
      "metadata": {
        "id": "B9UIWsWykc3u"
      }
    },
    {
      "cell_type": "code",
      "source": [
        "# Define a class for nodes\n",
        "class Node:\n",
        "    def __init__(self, support_type, coordinates, degrees_of_freedom, reaction_forces_exist):\n",
        "        self.support_type = support_type\n",
        "        self.coordinates = coordinates\n",
        "        self.degrees_of_freedom = degrees_of_freedom\n",
        "        self.reaction_forces_exist = reaction_forces_exist\n",
        "\n",
        "# Define a class for members\n",
        "class Member:\n",
        "    def __init__(self, node1_id, node2_id, cross_section_area, modulus_of_elasticity, moment_of_inertia, length, angle, loads_info):\n",
        "        self.node1_id = node1_id\n",
        "        self.node2_id = node2_id\n",
        "        self.cross_section_area = cross_section_area\n",
        "        self.modulus_of_elasticity = modulus_of_elasticity\n",
        "        self.moment_of_inertia = moment_of_inertia\n",
        "        self.length = length\n",
        "        self.angle = angle\n",
        "        self.loads_info = loads_info"
      ],
      "metadata": {
        "id": "RHNk0oMdPOrr"
      },
      "execution_count": null,
      "outputs": []
    },
    {
      "cell_type": "code",
      "source": [
        "# Function to determine degrees of freedom based on support type\n",
        "def determine_degrees_of_freedom(support_type):\n",
        "    u, v, theta = 0, 0, 0\n",
        "    if support_type == 'fixed':\n",
        "        u, v, theta = 0, 0, 0\n",
        "    elif support_type == 'pinned':\n",
        "        theta = 1\n",
        "    elif support_type == 'hroller':\n",
        "        u, theta = 1, 1\n",
        "    elif support_type == 'vroller':\n",
        "        v, theta = 1, 1\n",
        "    elif support_type == 'free':\n",
        "        u, v, theta = 1, 1, 1\n",
        "    return u, v, theta\n",
        "\n",
        "# Function to determine existence of external forces and moments based on support type\n",
        "def determine_unknown_forces(support_type):\n",
        "    H_exists, V_exists, M_exists = False, False, False\n",
        "\n",
        "    if support_type == 'fixed':\n",
        "        H_exists, V_exists, M_exists = True, True, True\n",
        "    elif support_type == 'pinned':\n",
        "        H_exists, V_exists = True, True\n",
        "    elif support_type == 'hroller':\n",
        "        V_exists = True\n",
        "    elif support_type == 'vroller':\n",
        "        H_exists = True\n",
        "    elif support_type == 'free':\n",
        "        H_exists, V_exists, M_exists = False, False, False\n",
        "\n",
        "    return H_exists, V_exists, M_exists"
      ],
      "metadata": {
        "id": "VqfP0xd7Pgz2"
      },
      "execution_count": null,
      "outputs": []
    },
    {
      "cell_type": "code",
      "source": [
        "def import_nodes_from_csv(filename):\n",
        "    nodes = {}\n",
        "    external_forces = {}\n",
        "    settlements = {}\n",
        "    with open(filename, newline='') as csvfile:\n",
        "        reader = csv.DictReader(csvfile)\n",
        "        for row in reader:\n",
        "            node_id = int(row['node_id'])\n",
        "            support_type = row['support_type'].strip().lower()\n",
        "            coordinates = [float(row['x']), float(row['y'])]\n",
        "            degrees_of_freedom = determine_degrees_of_freedom(support_type)\n",
        "            Hu, Vu, Mu = determine_unknown_forces(support_type)\n",
        "            node = Node(support_type, coordinates, degrees_of_freedom, {'H': Hu, 'V': Vu, 'M': Mu})\n",
        "            nodes[node_id] = node\n",
        "            # External forces and settlements\n",
        "            external_forces[node_id] = (\n",
        "                float(row.get('external_H', 0)),\n",
        "                float(row.get('external_V', 0)),\n",
        "                float(row.get('external_M', 0))\n",
        "            )\n",
        "            settlements[node_id] = (\n",
        "                float(row.get('settlement_u', 0)),\n",
        "                float(row.get('settlement_v', 0)),\n",
        "                float(row.get('settlement_theta', 0))\n",
        "            )\n",
        "    return nodes, external_forces, settlements\n",
        "\n",
        "def parse_loads(loads_str):\n",
        "    loads = []\n",
        "    if not loads_str:\n",
        "        return loads\n",
        "    for load_item in loads_str.split('|'):\n",
        "        parts = load_item.strip().split(';')\n",
        "        load_type = parts[0].strip()\n",
        "\n",
        "        # Split comma-separated distance values\n",
        "        load_values = []\n",
        "        for val in parts[1:]:\n",
        "            # Remove commas if present (e.g., \"2,3\" → \"2 3\")\n",
        "            cleaned_val = val.replace(',', ' ').split()\n",
        "            load_values.extend([float(x) for x in cleaned_val])\n",
        "\n",
        "        # Organize based on load type\n",
        "        if load_type == 'point_load':\n",
        "            # Format: point_load;P;a;b → [5000, 2, 3]\n",
        "            load_value = [load_values[0]]\n",
        "            load_distance = load_values[1:3]\n",
        "        elif load_type == 'uniform_distributed_load':\n",
        "            # Format: uniform_distributed_load;w;a;b → [2000, 1, 4]\n",
        "            load_value = [load_values[0]]\n",
        "            load_distance = load_values[1:3]\n",
        "\n",
        "        loads.append((load_type, load_value, load_distance))\n",
        "    return loads\n",
        "\n",
        "def import_members_from_csv(filename, nodes):\n",
        "    members = {}\n",
        "    with open(filename, newline='') as csvfile:\n",
        "        reader = csv.DictReader(csvfile)\n",
        "        for row in reader:\n",
        "            member_id = int(row['member_id'])\n",
        "            node1_id = int(row['node1'])\n",
        "            node2_id = int(row['node2'])\n",
        "            A = float(row['A'])\n",
        "            E = float(row['E'])\n",
        "            I = float(row['I'])\n",
        "            loads_info = parse_loads(row.get('loads', ''))\n",
        "            # Calculate length and angle\n",
        "            x1, y1 = nodes[node1_id].coordinates\n",
        "            x2, y2 = nodes[node2_id].coordinates\n",
        "            length = ((x2 - x1)**2 + (y2 - y1)**2) ** 0.5\n",
        "            angle = math.atan2(y2 - y1, x2 - x1) * 180 / math.pi\n",
        "            member = Member(node1_id, node2_id, A, E, I, length, angle, loads_info)\n",
        "            members[member_id] = member\n",
        "    return members\n",
        "\n",
        "def take_node_data(num_nodes):\n",
        "    nodes = {}\n",
        "    for i in range(num_nodes):\n",
        "        print(f\"\\nEnter details for Node {i+1}:\")\n",
        "        support_type = input(\"Type of Support (fixed, pinned, hroller, vroller, free): \").strip().lower()\n",
        "        coordinates = input(\"Coordinates of Node (x, y separated by space): \").strip().split()\n",
        "        coordinates = [float(coord) for coord in coordinates]\n",
        "        degrees_of_freedom = determine_degrees_of_freedom(support_type)\n",
        "        Hu, Vu, Mu = determine_unknown_forces(support_type)\n",
        "        node = Node(support_type, coordinates, degrees_of_freedom, {'H': Hu, 'V': Vu, 'M': Mu})\n",
        "        nodes[i+1] = node\n",
        "    return nodes\n",
        "\n",
        "# Function to take input for member details\n",
        "def take_member_data(num_members, nodes):\n",
        "    members = {}\n",
        "    for i in range(num_members):\n",
        "        print(f\"\\nEnter details for Member {i+1}:\")\n",
        "        node1_id = int(input(\"Enter ID of first node: \"))\n",
        "        node2_id = int(input(\"Enter ID of second node: \"))\n",
        "        cross_section_area = float(input(\"Enter cross-section area of member: \"))\n",
        "        modulus_of_elasticity = float(input(\"Enter modulus of elasticity of member: \"))\n",
        "        moment_of_inertia = float(input(\"Enter moment of inertia of member: \"))\n",
        "        num_loads = int(input(\"Enter the number of loads on this member: \"))\n",
        "        loads_info = []\n",
        "        for j in range(num_loads):\n",
        "            load_type = input(f\"Enter Load Type {j+1} (point_load, uniform_distributed_load, uniform_varying_load, trapezoidal_load): \").strip().lower()\n",
        "            load_value = input(f\"Enter Load Value {j+1} (separated by space, if none enter 0): \").strip().split()\n",
        "            load_value = [float(f) for f in load_value]\n",
        "            load_distance = input(f\"Enter Distance of Load {j+1} from Node 1 and Node 2 (separated by space as a b, if none enter 0 0): \").strip().split()\n",
        "            load_distance = [float(f) for f in load_distance[:2]]  # Take only the first two values\n",
        "            loads_info.append((load_type, load_value, load_distance))\n",
        "        length = ((nodes[node2_id].coordinates[0] - nodes[node1_id].coordinates[0])**2 + (nodes[node2_id].coordinates[1] - nodes[node1_id].coordinates[1])**2) ** 0.5\n",
        "        angle = math.atan2(nodes[node2_id].coordinates[1] - nodes[node1_id].coordinates[1], nodes[node2_id].coordinates[0] - nodes[node1_id].coordinates[0]) * 180 / math.pi\n",
        "        member = Member(node1_id, node2_id, cross_section_area, modulus_of_elasticity, moment_of_inertia, length, angle, loads_info)\n",
        "        members[i+1] = member\n",
        "    return members\n",
        "\n",
        "nodes_csv = 'nodes.csv'\n",
        "members_csv = 'members.csv'\n",
        "\n",
        "nodes_data, external_forces, settlements = import_nodes_from_csv(nodes_csv)\n",
        "member_data = import_members_from_csv(members_csv, nodes_data)"
      ],
      "metadata": {
        "id": "3DCoZFy6PeW4"
      },
      "execution_count": null,
      "outputs": []
    },
    {
      "cell_type": "markdown",
      "source": [
        "### Understanding DATA"
      ],
      "metadata": {
        "id": "COekapIeTwrq"
      }
    },
    {
      "cell_type": "code",
      "source": [
        "# Function to calculate member lengths and angles\n",
        "def calculate_member_length(n_val, m_val):\n",
        "    L = []  # List to store member lengths\n",
        "    th = []  # List to store member angles\n",
        "\n",
        "    for i in m_val.keys():\n",
        "        node1 = m_val[i].node1_id\n",
        "        node2 = m_val[i].node2_id\n",
        "        x1, y1 = n_val[node1].coordinates\n",
        "        x2, y2 = n_val[node2].coordinates\n",
        "        length = ((x2 - x1)**2 + (y2 - y1)**2) ** 0.5\n",
        "        angle = math.atan2(y2 - y1, x2 - x1) * 180 / math.pi\n",
        "        L.append(length)\n",
        "        th.append(angle)\n",
        "\n",
        "    return L, th\n",
        "\n",
        "L_val, th_val = calculate_member_length(nodes_data, member_data)\n",
        "print(\"Member Lenghts:\")\n",
        "print(L_val)\n",
        "print(\"Member Theta:\")\n",
        "print(th_val)"
      ],
      "metadata": {
        "colab": {
          "base_uri": "https://localhost:8080/"
        },
        "id": "rOvH1HPZS6cf",
        "outputId": "ae32eb70-3cda-4a6a-8a13-f93de9de31c1"
      },
      "execution_count": null,
      "outputs": [
        {
          "output_type": "stream",
          "name": "stdout",
          "text": [
            "Member Lenghts:\n",
            "[9.433981132056603, 4.0]\n",
            "Member Theta:\n",
            "[32.005383208083494, 0.0]\n"
          ]
        }
      ]
    },
    {
      "cell_type": "code",
      "source": [
        "# Function to calculate external force matrix on Nodes\n",
        "def calculate_external_force_matrix(nodes, external_forces):\n",
        "    external_force = []\n",
        "    for node_id, node in nodes.items():\n",
        "        H = external_forces[node_id][0]\n",
        "        V = external_forces[node_id][1]\n",
        "        M = external_forces[node_id][2]\n",
        "        external_force.extend([H, V, M])\n",
        "    external_force_matrix = np.array(external_force).reshape(-1, 1)\n",
        "    print(\"\\nExternal Force Matrix:\")\n",
        "    print(np.array(external_force_matrix))\n",
        "    return external_force_matrix\n",
        "\n",
        "external_force_matrix = calculate_external_force_matrix(nodes_data, external_forces)"
      ],
      "metadata": {
        "colab": {
          "base_uri": "https://localhost:8080/"
        },
        "id": "KfJ0tl5lT4Y9",
        "outputId": "472fdc86-d708-49d4-ab70-2ad2c9e6431b"
      },
      "execution_count": null,
      "outputs": [
        {
          "output_type": "stream",
          "name": "stdout",
          "text": [
            "\n",
            "External Force Matrix:\n",
            "[[0.]\n",
            " [0.]\n",
            " [0.]\n",
            " [0.]\n",
            " [0.]\n",
            " [0.]\n",
            " [0.]\n",
            " [0.]\n",
            " [0.]]\n"
          ]
        }
      ]
    },
    {
      "cell_type": "markdown",
      "source": [
        "### Matrices - L,T,G"
      ],
      "metadata": {
        "id": "wLjs8SsZSfzw"
      }
    },
    {
      "cell_type": "code",
      "source": [
        "# Function to calculate local stiffness matrix\n",
        "def l_stiffness_matrix(A, E, L, I):\n",
        "    k_local = np.zeros((6, 6))\n",
        "    k_local[0, 0] = A * E / L\n",
        "    k_local[0, 3] = -A * E / L\n",
        "    k_local[1, 1] = 12 * E * I / (L ** 3)\n",
        "    k_local[1, 2] = 6 * E * I / (L ** 2)\n",
        "    k_local[1, 4] = -12 * E * I / (L ** 3)\n",
        "    k_local[1, 5] = 6 * E * I / (L ** 2)\n",
        "    k_local[2, 1] = 6 * E * I / (L ** 2)\n",
        "    k_local[2, 2] = 4 * E * I / L\n",
        "    k_local[2, 4] = -6 * E * I / (L ** 2)\n",
        "    k_local[2, 5] = 2 * E * I / L\n",
        "    k_local[3, 3] = A * E / L\n",
        "    k_local[3, 0] = -A * E / L\n",
        "    k_local[4, 1] = -12 * E * I / (L ** 3)\n",
        "    k_local[4, 2] = -6 * E * I / (L ** 2)\n",
        "    k_local[4, 4] = 12 * E * I / (L ** 3)\n",
        "    k_local[4, 5] = -6 * E * I / (L ** 2)\n",
        "    k_local[5, 1] = 6 * E * I / (L ** 2)\n",
        "    k_local[5, 2] = 2 * E * I / L\n",
        "    k_local[5, 4] = -6 * E * I / (L ** 2)\n",
        "    k_local[5, 5] = 4 * E * I / L\n",
        "    return k_local\n",
        "\n",
        "local_sf_mat = l_stiffness_matrix(member_data[1].cross_section_area, member_data[1].modulus_of_elasticity, member_data[1].length, member_data[1].moment_of_inertia)\n",
        "print(local_sf_mat)"
      ],
      "metadata": {
        "colab": {
          "base_uri": "https://localhost:8080/"
        },
        "id": "GA28CWd5Sj8o",
        "outputId": "bda992cf-d379-482d-875d-7122264dcba9"
      },
      "execution_count": null,
      "outputs": [
        {
          "output_type": "stream",
          "name": "stdout",
          "text": [
            "[[ 2.17299565e+08  0.00000000e+00  0.00000000e+00 -2.17299565e+08\n",
            "   0.00000000e+00  0.00000000e+00]\n",
            " [ 0.00000000e+00  2.44059152e+04  1.15122472e+05  0.00000000e+00\n",
            "  -2.44059152e+04  1.15122472e+05]\n",
            " [ 0.00000000e+00  1.15122472e+05  7.24042152e+05  0.00000000e+00\n",
            "  -1.15122472e+05  3.62021076e+05]\n",
            " [-2.17299565e+08  0.00000000e+00  0.00000000e+00  2.17299565e+08\n",
            "   0.00000000e+00  0.00000000e+00]\n",
            " [ 0.00000000e+00 -2.44059152e+04 -1.15122472e+05  0.00000000e+00\n",
            "   2.44059152e+04 -1.15122472e+05]\n",
            " [ 0.00000000e+00  1.15122472e+05  3.62021076e+05  0.00000000e+00\n",
            "  -1.15122472e+05  7.24042152e+05]]\n"
          ]
        }
      ]
    },
    {
      "cell_type": "code",
      "source": [
        "# Function to perform transformation to global coordinate system\n",
        "def transformation(theta, transpose=False):\n",
        "    c = np.cos(np.radians(theta))\n",
        "    s = np.sin(np.radians(theta))\n",
        "    trans_matrix = np.array([\n",
        "        [c, -s, 0, 0, 0, 0],\n",
        "        [s, c, 0, 0, 0, 0],\n",
        "        [0, 0, 1, 0, 0, 0],\n",
        "        [0, 0, 0, c, -s, 0],\n",
        "        [0, 0, 0, s, c, 0],\n",
        "        [0, 0, 0, 0, 0, 1]\n",
        "    ])\n",
        "    if transpose:\n",
        "        trans_matrix = np.transpose(trans_matrix)\n",
        "    return trans_matrix\n",
        "\n",
        "t_mat = transformation(th_val[0])\n",
        "print(t_mat)\n",
        "t_mat = transformation(th_val[1])\n",
        "print(t_mat)"
      ],
      "metadata": {
        "colab": {
          "base_uri": "https://localhost:8080/"
        },
        "id": "PA7ejAaIS85e",
        "outputId": "2ee46b25-bfc9-427e-8671-288e593d3bd5"
      },
      "execution_count": null,
      "outputs": [
        {
          "output_type": "stream",
          "name": "stdout",
          "text": [
            "[[ 0.8479983  -0.52999894  0.          0.          0.          0.        ]\n",
            " [ 0.52999894  0.8479983   0.          0.          0.          0.        ]\n",
            " [ 0.          0.          1.          0.          0.          0.        ]\n",
            " [ 0.          0.          0.          0.8479983  -0.52999894  0.        ]\n",
            " [ 0.          0.          0.          0.52999894  0.8479983   0.        ]\n",
            " [ 0.          0.          0.          0.          0.          1.        ]]\n",
            "[[ 1. -0.  0.  0.  0.  0.]\n",
            " [ 0.  1.  0.  0.  0.  0.]\n",
            " [ 0.  0.  1.  0.  0.  0.]\n",
            " [ 0.  0.  0.  1. -0.  0.]\n",
            " [ 0.  0.  0.  0.  1.  0.]\n",
            " [ 0.  0.  0.  0.  0.  1.]]\n"
          ]
        }
      ]
    },
    {
      "cell_type": "code",
      "source": [
        "# Function to calculate global stiffness matrix\n",
        "def calculate_global_stiffness_matrix(member_data, nodes):\n",
        "    num_elements = len(member_data)\n",
        "    k_local_list = [l_stiffness_matrix(member_data[i].cross_section_area, member_data[i].modulus_of_elasticity, member_data[i].length, member_data[i].moment_of_inertia) for i in range(1, num_elements + 1)]\n",
        "    num_nodes = num_elements + 1\n",
        "    num_dofs = 3\n",
        "    K_global = np.zeros((num_nodes * num_dofs, num_nodes * num_dofs))\n",
        "    t_matrix_list = [transformation(member_data[i].angle) for i in range(1, num_elements + 1)]\n",
        "    for i in range(num_elements):\n",
        "        k_local_transformed = np.dot(np.dot(t_matrix_list[i], k_local_list[i]), np.transpose(t_matrix_list[i]))\n",
        "        start_index = (i * num_dofs)\n",
        "        end_index = ((i + 2) * num_dofs)\n",
        "        for m in range(num_dofs * 2):\n",
        "            for n in range(num_dofs * 2):\n",
        "                K_global[start_index + m, start_index + n] += k_local_transformed[m, n]\n",
        "\n",
        "    return K_global\n",
        "\n",
        "global_stiffness_matrix = calculate_global_stiffness_matrix(member_data, nodes_data)\n",
        "print(global_stiffness_matrix)"
      ],
      "metadata": {
        "colab": {
          "base_uri": "https://localhost:8080/"
        },
        "id": "qY1aVlmzTOHp",
        "outputId": "04b62391-b7d5-4580-b26f-6997f0b48960"
      },
      "execution_count": null,
      "outputs": [
        {
          "output_type": "stream",
          "name": "stdout",
          "text": [
            "[[ 1.56267217e+08  9.76517571e+07 -6.10147881e+04 -1.56267217e+08\n",
            "  -9.76517571e+07 -6.10147881e+04  0.00000000e+00  0.00000000e+00\n",
            "   0.00000000e+00]\n",
            " [ 9.76517571e+07  6.10567541e+07  9.76236609e+04 -9.76517571e+07\n",
            "  -6.10567541e+07  9.76236609e+04  0.00000000e+00  0.00000000e+00\n",
            "   0.00000000e+00]\n",
            " [-6.10147881e+04  9.76236609e+04  7.24042152e+05  6.10147881e+04\n",
            "  -9.76236609e+04  3.62021076e+05  0.00000000e+00  0.00000000e+00\n",
            "   0.00000000e+00]\n",
            " [-1.56267217e+08 -9.76517571e+07  6.10147881e+04  6.68767217e+08\n",
            "   9.76517571e+07  6.10147881e+04 -5.12500000e+08  0.00000000e+00\n",
            "   0.00000000e+00]\n",
            " [-9.76517571e+07 -6.10567541e+07 -9.76236609e+04  9.76517571e+07\n",
            "   6.13769385e+07  5.42745089e+05  0.00000000e+00 -3.20184375e+05\n",
            "   6.40368750e+05]\n",
            " [-6.10147881e+04  9.76236609e+04  3.62021076e+05  6.10147881e+04\n",
            "   5.42745089e+05  2.43169215e+06  0.00000000e+00 -6.40368750e+05\n",
            "   8.53825000e+05]\n",
            " [ 0.00000000e+00  0.00000000e+00  0.00000000e+00 -5.12500000e+08\n",
            "   0.00000000e+00  0.00000000e+00  5.12500000e+08  0.00000000e+00\n",
            "   0.00000000e+00]\n",
            " [ 0.00000000e+00  0.00000000e+00  0.00000000e+00  0.00000000e+00\n",
            "  -3.20184375e+05 -6.40368750e+05  0.00000000e+00  3.20184375e+05\n",
            "  -6.40368750e+05]\n",
            " [ 0.00000000e+00  0.00000000e+00  0.00000000e+00  0.00000000e+00\n",
            "   6.40368750e+05  8.53825000e+05  0.00000000e+00 -6.40368750e+05\n",
            "   1.70765000e+06]]\n"
          ]
        }
      ]
    },
    {
      "cell_type": "markdown",
      "source": [
        "### Other Matrices"
      ],
      "metadata": {
        "id": "4ymR06WqUDfC"
      }
    },
    {
      "cell_type": "code",
      "source": [
        "# Function to calculate displacement matrix\n",
        "def calculate_displacement_matrix(nodes):\n",
        "    disp_values = []\n",
        "    for node_id, node in nodes.items():\n",
        "        u = symbols('Horizontal_Displacement_' + str(node_id)) if node.degrees_of_freedom[0] else 0\n",
        "        v = symbols('Vertical_Displacement_' + str(node_id)) if node.degrees_of_freedom[1] else 0\n",
        "        theta = symbols('theta_' + str(node_id)) if node.degrees_of_freedom[2] else 0\n",
        "        disp_values.extend([u, v, theta])\n",
        "    disp_matrix = np.array(disp_values).reshape(-1, 1)\n",
        "    print(\"\\nDisplacement Matrix:\")\n",
        "    print(disp_matrix)\n",
        "    return disp_matrix\n",
        "\n",
        "displacement_matrix = calculate_displacement_matrix(nodes_data)"
      ],
      "metadata": {
        "colab": {
          "base_uri": "https://localhost:8080/"
        },
        "id": "sZ3GpZrsT4eX",
        "outputId": "d3408d63-ecc3-4d54-c879-c9145ce91012"
      },
      "execution_count": null,
      "outputs": [
        {
          "output_type": "stream",
          "name": "stdout",
          "text": [
            "\n",
            "Displacement Matrix:\n",
            "[[0]\n",
            " [0]\n",
            " [0]\n",
            " [Horizontal_Displacement_2]\n",
            " [Vertical_Displacement_2]\n",
            " [theta_2]\n",
            " [0]\n",
            " [0]\n",
            " [0]]\n"
          ]
        }
      ]
    },
    {
      "cell_type": "code",
      "execution_count": null,
      "metadata": {
        "id": "tcabdN9nBOyt",
        "colab": {
          "base_uri": "https://localhost:8080/"
        },
        "outputId": "f16fcf96-b071-4db9-ad33-7c974a811e90"
      },
      "outputs": [
        {
          "output_type": "stream",
          "name": "stdout",
          "text": [
            "Reaction Force Matrix:\n",
            "[[Horizontal_Reaction_1]\n",
            " [Vertical_Reaction_1]\n",
            " [Moment_1]\n",
            " [0]\n",
            " [0]\n",
            " [0]\n",
            " [Horizontal_Reaction_3]\n",
            " [Vertical_Reaction_3]\n",
            " [Moment_3]]\n"
          ]
        }
      ],
      "source": [
        "# Function to calculate unknown force matrix i.e. reactions\n",
        "def calculate_unknown_force_matrix(nodes):\n",
        "    unknown_force = []\n",
        "    for node_id, node in nodes.items():\n",
        "        support_type = node.support_type\n",
        "        H_exists, V_exists, M_exists = determine_unknown_forces(support_type)\n",
        "\n",
        "        Hu = symbols('Horizontal_Reaction_' + str(node_id)) if H_exists else 0\n",
        "        Vu = symbols('Vertical_Reaction_' + str(node_id)) if V_exists else 0\n",
        "        Mu = symbols('Moment_' + str(node_id)) if M_exists else 0\n",
        "\n",
        "        unknown_force.extend([Hu, Vu, Mu])\n",
        "\n",
        "    unknown_force_matrix = np.array(unknown_force).reshape(-1, 1)\n",
        "    print(\"Reaction Force Matrix:\")\n",
        "    print(np.array(unknown_force_matrix))\n",
        "    return unknown_force_matrix\n",
        "\n",
        "unknown_force_matrix = calculate_unknown_force_matrix(nodes_data)"
      ]
    },
    {
      "cell_type": "code",
      "source": [
        "#Settlement\n",
        "def calculate_settlement_matrix(nodes, settlements):\n",
        "    settlement = []\n",
        "    for node_id, node in nodes.items():\n",
        "        u_s = settlements[node_id][0]\n",
        "        v_s = settlements[node_id][1]\n",
        "        theta_s = settlements[node_id][2]\n",
        "        settlement.extend([u_s, v_s, theta_s])\n",
        "    settlement_matrix = np.array(settlement).reshape(-1, 1)\n",
        "    return settlement_matrix\n",
        "\n",
        "settlement_matrix = calculate_settlement_matrix(nodes_data, settlements)\n",
        "s = settlement_matrix + displacement_matrix"
      ],
      "metadata": {
        "id": "dR5h4Y84Y2X6"
      },
      "execution_count": null,
      "outputs": []
    },
    {
      "cell_type": "markdown",
      "source": [
        "### Results"
      ],
      "metadata": {
        "id": "RXUsAllbZ5Bm"
      }
    },
    {
      "cell_type": "code",
      "source": [
        "# Function to calculate fixed end forces due to point load\n",
        "def point_load_fixed_end(L, P, a, b):\n",
        "    F1 = -(P * (b ** 2) * (L + (2 * a))) / (L ** 3)\n",
        "    F2 = -(P * (a ** 2) * (L + (2 * b))) / (L ** 3)\n",
        "    M1 = -(P * (b ** 2) * a) / L ** 2\n",
        "    M2 = (P * (a ** 2) * b) / L ** 2\n",
        "    return F1, F2, M1, M2\n",
        "\n",
        "# Function to calculate fixed end forces due to uniform distributed load\n",
        "def uniform_distributed_load_fixed_end(L, w, a, b):\n",
        "    c = L-a-b\n",
        "    d = b+(c/2)\n",
        "    e = a+c\n",
        "    F1 = -(w*c*((12*(d**2))-((8*(d**3))/(L)) + ((2*e*(c**2))/(L)) - ((c**3)/(L)) - (c**2)))/(4*(L**2))\n",
        "    M1 = -(w*c*(((24*(d**3))/(L))-((6*e*(c**2))/(L))+((3*(c**3))/(L))+(4*(c**2))-(24*(d**2))))/(24*L)\n",
        "    F2 = -(w*c)+((w*c*((12*(d**2))-((8*(d**3))/(L))+((2*e*(c**2))/(L))-((c**3)/(L))-(c**2)))/(4*(L**2)))\n",
        "    M2 = (w*c*(((24*(d**3))/(L))-((6*e*(c**2))/(L))+((3*(c**3))/(L))+(4*(c**2))-(24*(d**2))))/(24*L)\n",
        "    return F1, F2, M1, M2\n",
        "\n",
        "# Function to calculate fixed end forces due to uniform varying load\n",
        "def uniform_varying_load_fixed_end(L, w1, w2,s1,s3):\n",
        "    s2 = L-s1-s3\n",
        "\n",
        "    M2 = -((-1/60)*(w2)*(s2)*((3*(s2**3))+((15*(s2**2)*(s3)))+((10*(s1**2)*(s2)))+((30*(s1**2)*(s3)))+((10*(s2**2)*(s1)))+((40*(s2)*(s1)*(s3))))/((s1+s2+s3)**2)) + ((-1/60)*(w1)*(s2)*((2*(s2**3))+((5*(s2**2)*(s3)))+((20*(s1**2)*(s2)))+((30*(s1**2)*(s3)))+((10*(s2**2)*(s1)))+ ((20*(s2)*(s1)*(s3))))/((s1+s2+s3)**2))\n",
        "    M1 = (((-1/60)*(w1)*(s2)*((3*(s2**3))+((15*(s2**2)*(s1)))+((10*(s3**2)*(s2)))+((30*(s3**2)*(s1)))+((10*(s2**2)*(s3)))+((40*(s2)*(s1)*(s3))))/((s1+s2+s3)**2)) + ((-1/60)*(w2)*(s2)*((2*(s2**3))+((5*(s2**2)*(s1)))+((20*(s3**2)*(s2)))+((30*(s3**2)*(s1)))+((10*(s2**2)*(s3)))+ ((20*(s2)*(s1)*(s3))))/((s1+s2+s3)**2)))\n",
        "    F2 = -((1/20)*(w1)*(s2)*((3*(s2**3))+((5*(s2**2)*(s3)))+((10*(s1**3)*(1)))+((30*(s1**2)*(s2)))+((30*(s1**2)*(s3)))+((15*(s2**2)*(s1)))+((20*(s2)*(s1)*(s3))))/((s1+s2+s3)**3)) + ((1/20)*(w2)*(s2)*((7*(s2**3))+((15*(s2**2)*(s3)))+((10*(s1**3)*(1)))+((30*(s1**2)*(s2)))+((30*(s1**2)*(s3)))+((25*(s2**2)*(s1)))+((40*(s2)*(s1)*(s3))))/((s1+s2+s3)**3))\n",
        "    F1 = -((1/20)*(w2)*(s2)*((3*(s2**3))+((5*(s2**2)*(s1)))+((10*(s3**3)*(1)))+((30*(s3**2)*(s2)))+((30*(s3**2)*(s1)))+((15*(s2**2)*(s3)))+((20*(s2)*(s3)*(s1))))/((s1+s2+s3)**3)) + ((1/20)*(w1)*(s2)*((7*(s2**3))+((15*(s2**2)*(s1)))+((10*(s3**3)*(1)))+((30*(s3**2)*(s2)))+((30*(s3**2)*(s1)))+((25*(s2**2)*(s3)))+((40*(s2)*(s1)*(s3))))/((s1+s2+s3)**3))\n",
        "    return F1, F2, M1, M2\n",
        "\n",
        "# Function to calculate fixed end forces due to trapezoidal load\n",
        "def trapezoidal_load_fixed_end(L, w1, w2):\n",
        "    F1 = (w1 + w2) * L / 4\n",
        "    F2 = (w1 + w2) * L / 4\n",
        "    M1 = w1 * L ** 2 / 12\n",
        "    M2 = w2 * L ** 2 / 12\n",
        "    return F1, F2, M1, M2\n"
      ],
      "metadata": {
        "id": "OwLMBAINopAk"
      },
      "execution_count": null,
      "outputs": []
    },
    {
      "cell_type": "code",
      "source": [
        "def calculate_global_fixed_end_forces(member_data):\n",
        "    num_elements = len(member_data)\n",
        "    no_node = num_elements + 1\n",
        "    global_fixed_end_forces_matrix = np.zeros((3 * no_node, 1))\n",
        "\n",
        "    for i, data in member_data.items():\n",
        "        for load_info in data.loads_info:\n",
        "            load_type, load_value, load_distance = load_info\n",
        "            length = data.length\n",
        "            angle = data.angle\n",
        "\n",
        "            F1, F2, M1, M2 = 0, 0, 0, 0\n",
        "\n",
        "            if load_type == 'point_load':\n",
        "                F1, F2, M1, M2 = point_load_fixed_end(length, load_value[0], load_distance[0], load_distance[1])\n",
        "            elif load_type == 'uniform_distributed_load':\n",
        "                F1, F2, M1, M2 = uniform_distributed_load_fixed_end(length, load_value[0],load_distance[0], load_distance[1])\n",
        "            elif load_type == 'uniform_varying_load':\n",
        "                F1, F2, M1, M2 = uniform_varying_load_fixed_end(length, load_value[0], load_value[1],load_distance[0], load_distance[1])\n",
        "            elif load_type == 'trapezoidal_load':\n",
        "                F1, F2, M1, M2 = trapezoidal_load_fixed_end(length, load_value[0], load_value[1])\n",
        "\n",
        "            local_fixed = np.zeros((6,1))\n",
        "\n",
        "            # Assign values to the corresponding positions\n",
        "            local_fixed[0] = 0\n",
        "            local_fixed[1] = F1\n",
        "            local_fixed[2] = M1\n",
        "            local_fixed[3] = 0\n",
        "            local_fixed[4] = F2\n",
        "            local_fixed[5] = M2\n",
        "\n",
        "\n",
        "# Anticlockwise positive(moment)\n",
        "            node1_id = data.node1_id\n",
        "            node2_id = data.node2_id\n",
        "            t_matrix = [transformation(member_data[i].angle)]\n",
        "            local_fixed_transformed = np.dot(t_matrix, local_fixed)\n",
        "            local_fixed_t = local_fixed_transformed.reshape(6, 1)\n",
        "\n",
        "            # Assemble local forces to global fixed end forces matrix\n",
        "            global_fixed_end_forces_matrix[(node1_id - 1) * 3:(node1_id - 1) * 3 + 6] += local_fixed_t\n",
        "\n",
        "    print(\"\\nGlobal Fixed End Forces Matrix:\")\n",
        "    print(np.array(global_fixed_end_forces_matrix) / 1000)\n",
        "    return global_fixed_end_forces_matrix\n",
        "global_fixed_end_forces = calculate_global_fixed_end_forces(member_data)"
      ],
      "metadata": {
        "colab": {
          "base_uri": "https://localhost:8080/"
        },
        "id": "cBVAainOVj87",
        "outputId": "8cbf1dcd-f979-4dfb-f127-6993e1cda9c9"
      },
      "execution_count": null,
      "outputs": [
        {
          "output_type": "stream",
          "name": "stdout",
          "text": [
            "\n",
            "Global Fixed End Forces Matrix:\n",
            "[[ -75. ]\n",
            " [ 120. ]\n",
            " [-222.5]\n",
            " [ -75. ]\n",
            " [ 180. ]\n",
            " [ 182.5]\n",
            " [   0. ]\n",
            " [  60. ]\n",
            " [  40. ]]\n"
          ]
        }
      ]
    },
    {
      "cell_type": "code",
      "source": [
        "result = np.dot(global_stiffness_matrix, s)\n",
        "result_with_forces = result + global_fixed_end_forces - external_force_matrix - unknown_force_matrix\n",
        "\n",
        "equations = [i[0] for i in result_with_forces]\n",
        "variables = set()\n",
        "for eq in equations:\n",
        "    variables.update(eq.free_symbols)\n",
        "x= sp.symbols(' '.join(str(variable) for variable in variables))\n",
        "solution = sp.solve(equations,x)\n",
        "\n",
        "# Convert the solution dictionary to a list of lists\n",
        "solution_table = [[\"Variable\", \"Value\"]]\n",
        "for key, value in solution.items():\n",
        "    try:\n",
        "        # Check if the key indicates a displacement\n",
        "        if 'Displacement' in str(key):\n",
        "            # If it's a displacement, keep the original value\n",
        "            solution_table.append([key, value])\n",
        "        # Check if the key indicates a vertical reaction\n",
        "        elif 'Vertical_Reaction' in str(key):\n",
        "            # If it's a vertical reaction, multiply the value by -1\n",
        "            solution_table.append([key, value /1000])\n",
        "        else:\n",
        "            # Otherwise, divide the value by 1000\n",
        "            solution_table.append([key, value / 1000])\n",
        "    except TypeError:\n",
        "        # If it's not a number (e.g., a symbolic expression), keep it as is\n",
        "        solution_table.append([key, value])\n",
        "\n",
        "# Print the solution table with selective division and sign change\n",
        "print(tabulate(solution_table, headers=\"firstrow\"))"
      ],
      "metadata": {
        "id": "D7rFCNpzYiYc",
        "colab": {
          "base_uri": "https://localhost:8080/"
        },
        "outputId": "c0566deb-3099-4c27-b4d5-1e8d669c96e0"
      },
      "execution_count": null,
      "outputs": [
        {
          "output_type": "stream",
          "name": "stdout",
          "text": [
            "Variable                            Value\n",
            "-------------------------  --------------\n",
            "Horizontal_Displacement_2     0.000587684\n",
            "Horizontal_Reaction_1       151.188\n",
            "Horizontal_Reaction_3      -301.188\n",
            "Moment_1                   -249.067\n",
            "Moment_3                    -25.5367\n",
            "Vertical_Displacement_2      -0.00321026\n",
            "Vertical_Reaction_1         251.361\n",
            "Vertical_Reaction_3         108.639\n",
            "theta_2                      -7.43488e-05\n"
          ]
        }
      ]
    }
  ]
}